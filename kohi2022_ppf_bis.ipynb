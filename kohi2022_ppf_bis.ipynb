{
  "nbformat": 4,
  "nbformat_minor": 0,
  "metadata": {
    "colab": {
      "provenance": [],
      "collapsed_sections": [],
      "toc_visible": true
    },
    "kernelspec": {
      "name": "python3",
      "display_name": "Python 3"
    },
    "accelerator": "GPU"
  },
  "cells": [
    {
      "cell_type": "markdown",
      "metadata": {
        "id": "Yy0WHpW3X9oX"
      },
      "source": [
        "# 약물 효과 예측 인공지능 모델 실습\n",
        "프로포폴, 레미펜타닐 투여 후 마취 심도(bispectral index) 예측 모델"
      ]
    },
    {
      "cell_type": "markdown",
      "metadata": {
        "id": "9SwIjOX9frk6"
      },
      "source": [
        "## 본 프로그램에서 이용할 라이브러리 설치 및 import"
      ]
    },
    {
      "cell_type": "code",
      "metadata": {
        "id": "Ch6czkFZfw_G"
      },
      "source": [
        "!pip install vitaldb\n",
        "\n",
        "import vitaldb\n",
        "import numpy as np\n",
        "import pandas as pd\n",
        "import matplotlib.pyplot as plt"
      ],
      "execution_count": null,
      "outputs": []
    },
    {
      "cell_type": "markdown",
      "metadata": {
        "id": "ZjxFdZTXBZWb"
      },
      "source": [
        "# Data loading"
      ]
    },
    {
      "cell_type": "markdown",
      "metadata": {
        "id": "AabTJc6dflSy"
      },
      "source": [
        "##VitalDB Web API를 통해 데이터 로딩\n"
      ]
    },
    {
      "cell_type": "code",
      "source": [
        "df_trks = pd.read_csv('https://api.vitaldb.net/trks')\n",
        "df_cases = pd.read_csv(\"https://api.vitaldb.net/cases\")"
      ],
      "metadata": {
        "id": "HYLisyUb5TAU"
      },
      "execution_count": null,
      "outputs": []
    },
    {
      "cell_type": "code",
      "source": [
        "# Track DataFrame확인    ## .head(), .tail()도 사용가능.\n",
        "df_trks"
      ],
      "metadata": {
        "id": "576gN5jL5WWw"
      },
      "execution_count": null,
      "outputs": []
    },
    {
      "cell_type": "code",
      "source": [
        "# Track name 확인\n",
        "df_trks[df_trks.caseid == 1].tname\n",
        "\n",
        "## same as..\n",
        "#df_trks[df_trks['caseid'] == 1]['tname']"
      ],
      "metadata": {
        "id": "exb44MvU7iPN"
      },
      "execution_count": null,
      "outputs": []
    },
    {
      "cell_type": "code",
      "source": [
        "# 전체 목록 확인\n",
        "df_trks[df_trks.caseid == 1].tname.tolist()\n",
        "\n",
        "##same as,\n",
        "#print(df_trks[df_trks.caseid == 1].tname.tolist())"
      ],
      "metadata": {
        "id": "KHEI1_Hg8IDn"
      },
      "execution_count": null,
      "outputs": []
    },
    {
      "cell_type": "code",
      "source": [
        "# Cases DataFrame확인\n",
        "df_cases"
      ],
      "metadata": {
        "id": "aIUEfO8W5d3e"
      },
      "execution_count": null,
      "outputs": []
    },
    {
      "cell_type": "code",
      "source": [
        "# Cases DataFrame의 column명들만 추출해서 확인\n",
        "df_cases.columns"
      ],
      "metadata": {
        "id": "IJiGFn7k9eGB"
      },
      "execution_count": null,
      "outputs": []
    },
    {
      "cell_type": "code",
      "metadata": {
        "id": "0b_TyfelWg6e"
      },
      "source": [
        "# female은 1으로, male 은 0으로 치환\n",
        "df_cases['sex'] = (df_cases['sex'] == 'F').astype(int)  "
      ],
      "execution_count": null,
      "outputs": []
    },
    {
      "cell_type": "markdown",
      "metadata": {
        "id": "xzuBetNgW5xv"
      },
      "source": [
        "##Case ID 선택 (inclusion, exclusion criteria)\n",
        "- 2시간 이상\n",
        "- 전신 마취\n",
        "- 18세 이상\n",
        "- PPF20_VOL, RFTN20_VOL, PPF20_CE, RFTN20_CE, BIS 트랙이 존재\n",
        "- 몸무게 35 kg 이상"
      ]
    },
    {
      "cell_type": "code",
      "metadata": {
        "id": "2qsz5TKVf6Nb"
      },
      "source": [
        "caseids = list(\n",
        "  set(df_trks.loc[df_trks['tname'] == 'Orchestra/PPF20_VOL', 'caseid']) & ## loc를 사용하는게 아래보다 빠름.\n",
        "  set(df_trks[df_trks['tname'] == 'Orchestra/RFTN20_VOL']['caseid']) &\n",
        "  set(df_trks[df_trks['tname'] == 'Orchestra/PPF20_CE']['caseid']) &\n",
        "  set(df_trks[df_trks['tname'] == 'Orchestra/RFTN20_CE']['caseid']) &\n",
        "  set(df_trks[df_trks['tname'] == 'BIS/BIS']['caseid']) & \n",
        "  set(df_cases[df_cases['age'] > 18]['caseid']) & \n",
        "  set(df_cases[df_cases['weight'] > 35]['caseid']) &\n",
        "  set(df_cases[df_cases['caseend'] > 7200]['caseid']) &   ## 2시간 이상의 수술.\n",
        "  set(df_cases[df_cases['ane_type'] == 'General']['caseid'])  ## 전신 마취\n",
        "  )\n",
        "np.random.shuffle(caseids)"
      ],
      "execution_count": null,
      "outputs": []
    },
    {
      "cell_type": "code",
      "source": [
        "print(f'Included cases numeber: {len(caseids)}')"
      ],
      "metadata": {
        "id": "mU7I7ybp-KDm"
      },
      "execution_count": null,
      "outputs": []
    },
    {
      "cell_type": "markdown",
      "metadata": {
        "id": "aBusNmsKpc2Z"
      },
      "source": [
        "# 데이터 전처리\n"
      ]
    },
    {
      "cell_type": "markdown",
      "source": [
        "## 하나의 Caseid로 먼저 실습 "
      ],
      "metadata": {
        "id": "Ibxg8nPY0sgE"
      }
    },
    {
      "cell_type": "code",
      "source": [
        "caseid = 5180 #5180"
      ],
      "metadata": {
        "id": "gBNmL8rs0_BZ"
      },
      "execution_count": null,
      "outputs": []
    },
    {
      "cell_type": "code",
      "source": [
        "# 20초 간격으로 Propofol 및 BIS 데이터 추출\n",
        "tracknames = ['Orchestra/PPF20_VOL', 'BIS/BIS']\n",
        "vals = vitaldb.load_case(caseid, tracknames, 20)\n",
        "\n",
        "print(vals.shape) # Matrix shape 확인\n",
        "print()\n",
        "print(vals[:10]) # 데이터 일부 확인"
      ],
      "metadata": {
        "id": "sPOkPyQV067Q"
      },
      "execution_count": null,
      "outputs": []
    },
    {
      "cell_type": "code",
      "source": [
        "# 시각화\n",
        "import matplotlib.pyplot as plt\n",
        "\n",
        "plt.figure(figsize=(20,5))\n",
        "for idx, trk in enumerate(tracknames):\n",
        "  plt.plot(vals[:,idx],label=trk)\n",
        "plt.legend(loc='center right')\n",
        "plt.show()"
      ],
      "metadata": {
        "colab": {
          "base_uri": "https://localhost:8080/",
          "height": 317
        },
        "id": "LMKtjwIiG6my",
        "outputId": "f4ffb36b-85a4-4fba-fc5f-4182d207b678"
      },
      "execution_count": null,
      "outputs": [
        {
          "output_type": "display_data",
          "data": {
            "text/plain": [
              "<Figure size 1440x360 with 1 Axes>"
            ],
            "image/png": "[encoded data removed]"
          },
          "metadata": {
            "needs_background": "light"
          }
        }
      ]
    },
    {
      "cell_type": "code",
      "source": [
        "# 결측치 확인\n",
        "print(np.isnan(vals).sum(axis=0)) # track\n",
        "print()\n",
        "np.where(np.isnan(vals).sum(axis=1) > 0)[0] #time"
      ],
      "metadata": {
        "id": "JwQhjYp-4RSz"
      },
      "execution_count": null,
      "outputs": []
    },
    {
      "cell_type": "code",
      "source": [
        "# track - time별 결측치 확인\n",
        "for idx, trk in enumerate(tracknames):\n",
        "  print(f' Missing values of {trk} track at : {np.where(np.isnan(vals[:, idx]))[0]}')\n",
        "  print()"
      ],
      "metadata": {
        "id": "QLhG3kzn6oDV"
      },
      "execution_count": null,
      "outputs": []
    },
    {
      "cell_type": "code",
      "source": [
        "#  결측치 처리 방법1 - 전후 값으로 치환\n",
        "vals_ = vals[10:20]\n",
        "print(\"#\"*4, \"Original\", \"#\"*4)\n",
        "print(vals_)\n",
        "print()\n",
        "print(\"#\"*4, \"Forward filling\", \"#\"*4)\n",
        "print(pd.DataFrame(vals_).fillna(method='ffill').values)\n",
        "print()\n",
        "print(\"#\"*4, \"Backward filling\", \"#\"*4)\n",
        "print(pd.DataFrame(vals_).fillna(method='bfill').values)\n",
        "print()\n",
        "#  결측치 처리 방법2 - 전후 값으로 치환\n",
        "print(\"#\"*4, \"Interpolation\", \"#\"*4) \n",
        "print(pd.DataFrame(vals_).interpolate().values)\n"
      ],
      "metadata": {
        "id": "BS-bF0-V7eTX"
      },
      "execution_count": null,
      "outputs": []
    },
    {
      "cell_type": "code",
      "source": [
        "#  결측치 처리 방법3 - 특정값으로 치환\n",
        "print(np.nan_to_num(vals_, 0))"
      ],
      "metadata": {
        "id": "55J1gSay_WX0"
      },
      "execution_count": null,
      "outputs": []
    },
    {
      "cell_type": "markdown",
      "source": [
        "## 전체 실행 (TODO)\n",
        "- dataset을 담을 변수를 설정\n",
        "- propofol(ppf20), remifentanil(rftn20), bis를 로딩한다\n",
        "- 기록된 데이터가 짧거나, drug infusion이 실제 없었던 케이스, bis값이 적절하지 않은 케이스는 거르기\n",
        "- 결측값 및 음수 처리"
      ],
      "metadata": {
        "id": "euUUMCTRzuhm"
      }
    },
    {
      "cell_type": "code",
      "metadata": {
        "id": "h6CHJpySrDxG"
      },
      "source": [
        "######### TODO 1 #########\n",
        "\n",
        "# vital 파일로부터 dataset 을 만듬\n",
        "x_ppf_dose = []  # 각 레코드의 프로포폴 주입량\n",
        "x_rft_dose = []  # 각 레코드의 레미펜타닐 주입량\n",
        "x_aswh = []  # 각 레코드의 나이, 성별, 키, 몸무게\n",
        "x_caseid = []  # 각 레코드의 caseid\n",
        "y = []  # 각 레코드의 출력값 (bis)\n",
        "y_old = []  # 고전적 모델의 예측값\n",
        "\n",
        "LSTM_TIMEPOINTS = 180\n",
        "MAX_CASES = 50  # 본 예제에서 사용할 최대 case 수\n",
        "\n",
        "# 데이터 로딩했을 때 컬럼 순서\n",
        "PPF_DOSE = 0\n",
        "RFT_DOSE = 1\n",
        "PPF_CE = 2\n",
        "RFT_CE = 3\n",
        "BIS = 4\n",
        "\n",
        "icase = 0  # 현재 로딩 중인 케이스 번호\n",
        "ncase = min(MAX_CASES, len(caseids))\n",
        "for caseid in caseids:  # 본 연구에 사용할 각 case에 대하여\n",
        "    print('loading {} ({}/{})'.format(caseid, icase, ncase), end='...', flush=True)\n",
        "\n",
        "    ######### TODO 1 : Step 1 #########\n",
        "    # 10초 간격으로, propofol volume, remifentanil volume, propofol CE, remifentanil CE, BIS 데이터 추출\n",
        "    vals = #### INSERT CODE ####\n",
        "\n",
        "    ######### TODO 1 : Step 2 #########\n",
        "    # 결측값은 측정된 마지막 값으로 대체\n",
        "    vals = #### INSERT CODE ####\n",
        "\n",
        "    ######### TODO 1 : Step 3 #########\n",
        "    # 마지막 남은 맨 앞 쪽 결측값은 0으로 대체\n",
        "    vals = #### INSERT CODE ####\n",
        "\n",
        "    # drug 주입을 하지 않은 case 혹은 bis를 사용하지 않은 case는 제외\n",
        "    if (np.max(vals, axis=0) <= 1).any():\n",
        "        print('no drug infusion or bis')\n",
        "        continue\n",
        "\n",
        "    # drug infusion 시작 시간을 구하고 그 이전을 삭제\n",
        "    first_ppf_idx = np.where(vals[:, PPF_DOSE] > 1)[0][0]\n",
        "    first_rft_idx = np.where(vals[:, RFT_DOSE] > 1)[0][0]\n",
        "    first_drug_idx = min(first_ppf_idx, first_rft_idx)\n",
        "    vals = vals[first_drug_idx:, :]\n",
        "\n",
        "    # volume 을 rate로 변경\n",
        "    vals[1:, PPF_DOSE] -= vals[:-1, PPF_DOSE]\n",
        "    vals[1:, RFT_DOSE] -= vals[:-1, RFT_DOSE]\n",
        "    vals[0, PPF_DOSE] = 0\n",
        "    vals[0, RFT_DOSE] = 0\n",
        "\n",
        "    ######### TODO 1 : Step 4 #########\n",
        "    # 음수 값을 0으로 대체\n",
        "    vals[#### INSERT CODE #### ] = 0\n",
        "\n",
        "    # bis 값의 첫 값이 80 이하이거나 마지막 값이 70 이하인 case는 사용하지 않음\n",
        "    valid_bis_idx = np.where(vals[:, BIS] > 0)[0]\n",
        "    first_bis_idx = valid_bis_idx[0]\n",
        "    last_bis_idx = valid_bis_idx[-1]\n",
        "    if vals[first_bis_idx, BIS] < 80:\n",
        "        print('first bis < 80')\n",
        "        continue\n",
        "    if vals[last_bis_idx, BIS] < 70:\n",
        "        print('last bis < 70')\n",
        "        continue\n",
        "\n",
        "    # infusion 시작 전 LSTM_TIMEPOINTS 동안의 dose와 bis를 모두 0으로 세팅\n",
        "    vals = np.vstack((np.zeros((LSTM_TIMEPOINTS - 1, vals.shape[1])), vals))\n",
        "\n",
        "    ######### TODO 1 : Step 5 #########\n",
        "    # 현 case의 나이, 성별, 키, 몸무게를 가져옴\n",
        "    aswh = #### INSERT CODE ####\n",
        "    aswh = aswh.values.astype(float).flatten()\n",
        "\n",
        "    # case 시작 부터 종료까지 dataset 에 넣음\n",
        "    for irow in range(1, vals.shape[0] - LSTM_TIMEPOINTS - 1):\n",
        "        bis = vals[irow + LSTM_TIMEPOINTS, BIS]\n",
        "        if bis == 0:\n",
        "            continue\n",
        "\n",
        "        # 데이터셋에 입력값을 넣음\n",
        "        x_ppf_dose.append(vals[irow:irow + LSTM_TIMEPOINTS, PPF_DOSE])\n",
        "        x_rft_dose.append(vals[irow:irow + LSTM_TIMEPOINTS, RFT_DOSE])\n",
        "\n",
        "        x_aswh.append(aswh)\n",
        "        x_caseid.append(caseid)\n",
        "        y.append(bis / 100)\n",
        "\n",
        "        ppf_ce = vals[irow + LSTM_TIMEPOINTS, PPF_CE]\n",
        "        rft_ce = vals[irow + LSTM_TIMEPOINTS, RFT_CE]\n",
        "         \n",
        "        ug = (ppf_ce / 4.47 + rft_ce / 19.3)**1.43\n",
        "        y_old.append(0.98 - 0.98 * (ug / (1 + ug)))\n",
        "\n",
        "\n",
        "    # 사용할 case\n",
        "    print('done')\n",
        "    icase += 1\n",
        "    if icase >= ncase:\n",
        "        break\n"
      ],
      "execution_count": null,
      "outputs": []
    },
    {
      "cell_type": "markdown",
      "metadata": {
        "id": "NwwLDouezDLc"
      },
      "source": [
        "## 데이터셋 포맷 및 차원 변환"
      ]
    },
    {
      "cell_type": "code",
      "metadata": {
        "id": "bHa2fte0zGEv"
      },
      "source": [
        "# 입력 데이터셋을 numpy array로 변경\n",
        "x_ppf_dose = np.array(x_ppf_dose)[..., None]  # LSTM 에 넣기 위해서는 3차원이어야 한다. 마지막 차원을 추가\n",
        "x_rft_dose = np.array(x_rft_dose)[..., None]\n",
        "x_aswh = np.array(x_aswh)\n",
        "y = np.array(y)\n",
        "y_old = np.array(y_old)\n",
        "x_caseid = np.array(x_caseid)\n",
        "\n",
        "# 최종적으로 로딩 된 caseid\n",
        "caseids = np.unique(x_caseid)\n",
        "\n",
        "# normalize data\n",
        "x_aswh = (x_aswh - np.mean(x_aswh, axis=0)) / np.std(x_aswh, axis=0)\n"
      ],
      "execution_count": null,
      "outputs": []
    },
    {
      "cell_type": "markdown",
      "metadata": {
        "id": "VpMowosc0Bzf"
      },
      "source": [
        "## 데이터를 학습(train)과 테스트(test)로 나누기"
      ]
    },
    {
      "cell_type": "code",
      "metadata": {
        "id": "AjdvjsJ10JAe"
      },
      "source": [
        "# train, test case로 나눔\n",
        "ntest = int(ncase * 0.1)\n",
        "ntrain = ncase - ntest\n",
        "train_caseids = caseids[:ntrain]\n",
        "test_caseids = caseids[ntrain:ncase]\n",
        "\n",
        "# train set과 test set 으로 나눔\n",
        "train_mask = np.array([caseid in train_caseids for caseid in x_caseid])\n",
        "test_mask = np.array([caseid in test_caseids for caseid in x_caseid])\n",
        "x_train = [x_ppf_dose[train_mask], x_rft_dose[train_mask], x_aswh[train_mask]]\n",
        "y_train = y[train_mask]\n",
        "x_test = [x_ppf_dose[test_mask], x_rft_dose[test_mask], x_aswh[test_mask]]\n",
        "y_test = y[test_mask]\n",
        "y_old = y_old[test_mask]\n",
        "\n",
        "print('train: {} cases {} samples, testing: {} cases {} samples'.format(len(train_caseids), np.sum(train_mask), len(test_caseids), np.sum(test_mask)))"
      ],
      "execution_count": null,
      "outputs": []
    },
    {
      "cell_type": "markdown",
      "metadata": {
        "id": "iPi6FIbB0NkF"
      },
      "source": [
        "# Model building\n"
      ]
    },
    {
      "cell_type": "code",
      "source": [
        "from keras.models import Model, load_model\n",
        "from keras.layers import Dense, Dropout, LSTM, Input, concatenate\n",
        "from keras.callbacks import EarlyStopping\n",
        "import tensorflow as tf\n",
        "\n",
        "# 모델 설계\n",
        "\n",
        "def build_model(LSTM_NODES, FNN_NODES, DROP_RATE):\n",
        "    \n",
        "    input_cov = Input(batch_shape=(None, 4))\n",
        "    input_ppf = Input(batch_shape=(None, LSTM_TIMEPOINTS, 1))\n",
        "    input_rft = Input(batch_shape=(None, LSTM_TIMEPOINTS, 1))\n",
        "    output_ppf = LSTM(LSTM_NODES, input_shape=(LSTM_TIMEPOINTS, 1), activation='tanh')(input_ppf)\n",
        "    output_rft = LSTM(LSTM_NODES, input_shape=(LSTM_TIMEPOINTS, 1), activation='tanh')(input_rft)\n",
        "    output = concatenate([output_ppf, output_rft, input_cov])\n",
        "    output = Dense(FNN_NODES)(output)\n",
        "    output = Dropout(DROP_RATE)(output)\n",
        "    output = Dense(1, activation='sigmoid')(output)\n",
        "    model = Model(inputs=[input_ppf, input_rft, input_cov], outputs=[output])\n",
        "    \n",
        "    return model\n"
      ],
      "metadata": {
        "id": "nstrZVa3WIez"
      },
      "execution_count": null,
      "outputs": []
    },
    {
      "cell_type": "code",
      "source": [
        "# 모델 생성 및 구조 확인\n",
        "model = build_model(32, 32, 0.5)\n",
        "model.summary()"
      ],
      "metadata": {
        "id": "2QDgyGNwXBY3"
      },
      "execution_count": null,
      "outputs": []
    },
    {
      "cell_type": "code",
      "metadata": {
        "id": "uytYU2Fu0rPi"
      },
      "source": [
        "mse = tf.keras.losses.MeanSquaredError()\n",
        "\n",
        "model.compile(loss=mse, optimizer='sgd', metrics=[mse])\n",
        "hist = model.fit(x_train, y_train,\n",
        "                 batch_size=64,\n",
        "                 validation_split=0.2, \n",
        "                 epochs=1, \n",
        "                 callbacks=[EarlyStopping(monitor='val_loss', patience=3, verbose=0, mode='auto')])"
      ],
      "execution_count": null,
      "outputs": []
    },
    {
      "cell_type": "markdown",
      "metadata": {
        "id": "SeVpuglt1W0k"
      },
      "source": [
        "# 결과 출력"
      ]
    },
    {
      "cell_type": "code",
      "metadata": {
        "id": "GNA1cUY71cxs"
      },
      "source": [
        "# 예측\n",
        "y_pred = model.predict(x_test).flatten()\n",
        "print(f\"Test MAPE (LSTM): {mape(y_test, y_pred):.1f}%\")\n",
        "print(f\"Test MAPE (Short): {mape(y_old, y_pred):.1f}%\")\n",
        "print()\n",
        "\n",
        "# 각 case에서 예측 결과를 그림으로 확인\n",
        "import matplotlib.pyplot as plt\n",
        "for caseid in test_caseids:\n",
        "    case_mask = (x_caseid[test_mask] == caseid)\n",
        "    case_len = np.sum(case_mask)\n",
        "    if case_len == 0:\n",
        "        continue\n",
        "\n",
        "    print('CaseID {}, LSTM MAPE={}, Short MAPE={}'.format(caseid, \n",
        "      mape(y_test[case_mask], y_pred[case_mask]), \n",
        "      mape(y_test[case_mask], y_old[case_mask])\n",
        "      ))\n",
        "\n",
        "    t = np.arange(0, case_len)\n",
        "    plt.figure(figsize=(20, 5))\n",
        "    plt.plot(t, y_test[case_mask], label='BIS')  # 측정 결과\n",
        "    plt.plot(t, y_pred[case_mask], label='LSTM')  # LSTM model\n",
        "    plt.plot(t, y_old[case_mask], label='Short')  # Short model\n",
        "    plt.legend()\n",
        "    plt.xlim([0, case_len])\n",
        "    plt.ylim([0, 1])\n",
        "    plt.show()"
      ],
      "execution_count": null,
      "outputs": []
    },
    {
      "cell_type": "markdown",
      "source": [
        "# 모델 학습 및 추론 (TODO)"
      ],
      "metadata": {
        "id": "zsjvmOFNcJ3r"
      }
    },
    {
      "cell_type": "code",
      "source": [
        "######### TODO 2 #########\n",
        "# 모델 설계 및 학습\n",
        "\n",
        "######### TODO 2 : Step 1 #########\n",
        "# LSTM의 node 수 8, FNN의 node 수 16, dropout rate는 0.2인 모델을 만들어주세요.\n",
        "model = #### INSERT CODE ####\n",
        "\n",
        "######### TODO 2 : Step 2 #########\n",
        "# 손실함수는 mean absolute error, 옵티마이저는 Adam, 평가방법은 mean absolute percentage error로 모델을 컴파일 해주세요.\n",
        "mae = #### INSERT CODE ####\n",
        "mape = #### INSERT CODE ####\n",
        "\n",
        "model.compile(#### INSERT CODE ####)\n",
        "\n",
        "######### TODO 2 : Step 3 #########\n",
        "# 모델 검증을 위해 10%로 split해서 미니배치 크기는 256으로 모델을 epoch은 10회로 학습해주세요.\n",
        "hist = model.fit(x_train, y_train,\n",
        "                 #### INSERT CODE ####\n",
        "                 )\n"
      ],
      "metadata": {
        "id": "oMruV58jYDh-"
      },
      "execution_count": null,
      "outputs": []
    },
    {
      "cell_type": "code",
      "source": [
        "# 예측\n",
        "y_pred = model.predict(x_test).flatten()\n",
        "print(f\"Test MAPE (LSTM): {mape(y_test, y_pred):.1f}%\")\n",
        "print(f\"Test MAPE (Short): {mape(y_old, y_pred):.1f}%\")\n",
        "print()\n",
        "\n",
        "# 각 case에서 예측 결과를 그림으로 확인\n",
        "import matplotlib.pyplot as plt\n",
        "for caseid in test_caseids:\n",
        "    case_mask = (x_caseid[test_mask] == caseid)\n",
        "    case_len = np.sum(case_mask)\n",
        "    if case_len == 0:\n",
        "        continue\n",
        "\n",
        "    print('CaseID {}, LSTM MAPE={}, Short MAPE={}'.format(caseid, \n",
        "      mape(y_test[case_mask], y_pred[case_mask]), \n",
        "      mape(y_test[case_mask], y_old[case_mask])\n",
        "      ))\n",
        "\n",
        "    t = np.arange(0, case_len)\n",
        "    plt.figure(figsize=(20, 5))\n",
        "    plt.plot(t, y_test[case_mask], label='BIS')  # 측정 결과\n",
        "    plt.plot(t, y_pred[case_mask], label='LSTM')  # LSTM model\n",
        "    plt.plot(t, y_old[case_mask], label='Short')  # Short model\n",
        "    plt.legend()\n",
        "    plt.xlim([0, case_len])\n",
        "    plt.ylim([0, 1])\n",
        "    plt.show()"
      ],
      "metadata": {
        "id": "B1wIesXEI3oa"
      },
      "execution_count": null,
      "outputs": []
    }
  ]
}